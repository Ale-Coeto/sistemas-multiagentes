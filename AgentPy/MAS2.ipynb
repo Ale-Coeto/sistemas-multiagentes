{
 "cells": [
  {
   "cell_type": "code",
   "execution_count": null,
   "metadata": {},
   "outputs": [],
   "source": [
    "!pip3 install agentpy"
   ]
  },
  {
   "cell_type": "code",
   "execution_count": 2,
   "metadata": {},
   "outputs": [],
   "source": [
    "import agentpy as ap, numpy as np"
   ]
  },
  {
   "cell_type": "code",
   "execution_count": 16,
   "metadata": {},
   "outputs": [
    {
     "name": "stdout",
     "output_type": "stream",
     "text": [
      "hi\n"
     ]
    }
   ],
   "source": [
    "class Agent(ap.Agent):\n",
    "\n",
    "    \"\"\"Class to represent an agent that searchs for rewards\"\"\"\n",
    "    def setup(self) -> None:\n",
    "        \"\"\"Initial setup\"\"\"\n",
    "        self.energy = 0\n",
    "    \n",
    "    def agent_step() -> None: \n",
    "        \"\"\"Action for each step\"\"\"\n",
    "        print(\"do sth\")\n",
    "\n",
    "class InteractionModel(ap.Model):\n",
    "    \"\"\"Class to model a grid with rewards and agents\"\"\"\n",
    "    def __init__(self, grid, agent_count, steps=100) -> None:\n",
    "        \"\"\"Initial setup\"\"\"\n",
    "        super().__init__(steps=steps)\n",
    "        self.grid = grid\n",
    "        self.environment = ap.Grid(self, (len(self.grid), len(self.grid[0])))\n",
    "        # self.agent_count = agent_count\n",
    "        self.add_random_agents()\n",
    "\n",
    "    def add_random_agents(self) -> None:\n",
    "        print(\"hi\")\n",
    "        # for i in 0,self.agent_count:\n",
    "        #     print(i)\n",
    "        \n",
    "grid = [[0,1],[2,3]]\n",
    "parameters = {\n",
    "    'steps': 100,\n",
    "    'energy': 10,\n",
    "    'grid': grid\n",
    "}\n",
    "a = InteractionModel(grid, 10)\n",
    "# results = a.run()"
   ]
  }
 ],
 "metadata": {
  "kernelspec": {
   "display_name": "Python 3",
   "language": "python",
   "name": "python3"
  },
  "language_info": {
   "codemirror_mode": {
    "name": "ipython",
    "version": 3
   },
   "file_extension": ".py",
   "mimetype": "text/x-python",
   "name": "python",
   "nbconvert_exporter": "python",
   "pygments_lexer": "ipython3",
   "version": "3.11.10"
  }
 },
 "nbformat": 4,
 "nbformat_minor": 2
}
